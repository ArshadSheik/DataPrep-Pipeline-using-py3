{
 "cells": [
  {
   "cell_type": "markdown",
   "id": "bac13c86",
   "metadata": {},
   "source": [
    "# Handling Missing values"
   ]
  },
  {
   "cell_type": "markdown",
   "id": "d5b7c5b5",
   "metadata": {},
   "source": [
    "Choosing between Mean, Median, and Mode to fill in missing values in a dataset depends on the data you are working with. Below are some valuable guidelines that will help you decide what to choose between mean, median, and mode to fill in missing values in a dataset:\n",
    "\n",
    "1. **Mean:** When your dataset is in a normal distribution, you can use mean to fill in the missing values.\n",
    "\n",
    "2. **Median:** When your dataset is not in a normal distribution, you can use the median value to fill in the missing values.\n",
    "\n",
    "3. **Mode:** When the missing values in your data are categorical and discrete, you can use the mode value to fill in the missing values.\n",
    "\n",
    "So the first step is to see if your data has missing values. If your data has missing values, you need to check the distribution of each numerical variable (with missing values). If the values in the numerical variables are missing, use the Mean value if the variable is in a normal distribution. Otherwise, choose Median. And if the variable is categorical or discrete, you can select mode. So you need to choose a different measure for each variable."
   ]
  },
  {
   "cell_type": "code",
   "execution_count": 1,
   "id": "3c2ed89c",
   "metadata": {},
   "outputs": [],
   "source": [
    "import pandas as pd\n",
    "import numpy as np"
   ]
  },
  {
   "cell_type": "code",
   "execution_count": 2,
   "id": "bceb0005",
   "metadata": {},
   "outputs": [
    {
     "name": "stdout",
     "output_type": "stream",
     "text": [
      "     A     B      C\n",
      "0  1.0   2.0    red\n",
      "1  2.0   4.0   blue\n",
      "2  3.0   6.0    NaN\n",
      "3  4.0   8.0  green\n",
      "4  NaN   NaN  green\n",
      "5  6.0  12.0   blue\n",
      "6  7.0  14.0    red\n",
      "7  8.0  16.0   blue\n",
      "8  9.0  18.0  green\n",
      "9  NaN   NaN    NaN\n"
     ]
    }
   ],
   "source": [
    "data = {'A': [1, 2, 3, 4, np.nan, 6, 7, 8, 9, np.nan],\n",
    "        'B': [2, 4, 6, 8, np.nan, 12, 14, 16, 18, np.nan],\n",
    "        'C': ['red', 'blue', np.nan, 'green', 'green', \n",
    "              'blue', 'red', 'blue', 'green', np.nan]}\n",
    "df = pd.DataFrame(data)\n",
    "print(df)"
   ]
  },
  {
   "cell_type": "markdown",
   "id": "b6eab1a5",
   "metadata": {},
   "source": [
    "## using Mean"
   ]
  },
  {
   "cell_type": "code",
   "execution_count": 3,
   "id": "e6a7233b",
   "metadata": {},
   "outputs": [
    {
     "name": "stdout",
     "output_type": "stream",
     "text": [
      "     A     B      C\n",
      "0  1.0   2.0    red\n",
      "1  2.0   4.0   blue\n",
      "2  3.0   6.0    NaN\n",
      "3  4.0   8.0  green\n",
      "4  5.0   NaN  green\n",
      "5  6.0  12.0   blue\n",
      "6  7.0  14.0    red\n",
      "7  8.0  16.0   blue\n",
      "8  9.0  18.0  green\n",
      "9  5.0   NaN    NaN\n"
     ]
    }
   ],
   "source": [
    "mean_A = df['A'].mean()\n",
    "df['A'].fillna(mean_A, inplace=True)\n",
    "print(df)"
   ]
  },
  {
   "cell_type": "markdown",
   "id": "2493c17a",
   "metadata": {},
   "source": [
    "## using Median"
   ]
  },
  {
   "cell_type": "code",
   "execution_count": 4,
   "id": "ed7a6fa1",
   "metadata": {},
   "outputs": [
    {
     "name": "stdout",
     "output_type": "stream",
     "text": [
      "     A     B      C\n",
      "0  1.0   2.0    red\n",
      "1  2.0   4.0   blue\n",
      "2  3.0   6.0    NaN\n",
      "3  4.0   8.0  green\n",
      "4  5.0  10.0  green\n",
      "5  6.0  12.0   blue\n",
      "6  7.0  14.0    red\n",
      "7  8.0  16.0   blue\n",
      "8  9.0  18.0  green\n",
      "9  5.0  10.0    NaN\n"
     ]
    }
   ],
   "source": [
    "median_B = df['B'].median()\n",
    "df['B'].fillna(median_B, inplace=True)\n",
    "print(df)"
   ]
  },
  {
   "cell_type": "markdown",
   "id": "1a69c631",
   "metadata": {},
   "source": [
    "## using Mode"
   ]
  },
  {
   "cell_type": "code",
   "execution_count": 5,
   "id": "bcb591e1",
   "metadata": {},
   "outputs": [
    {
     "name": "stdout",
     "output_type": "stream",
     "text": [
      "     A     B      C\n",
      "0  1.0   2.0    red\n",
      "1  2.0   4.0   blue\n",
      "2  3.0   6.0   blue\n",
      "3  4.0   8.0  green\n",
      "4  5.0  10.0  green\n",
      "5  6.0  12.0   blue\n",
      "6  7.0  14.0    red\n",
      "7  8.0  16.0   blue\n",
      "8  9.0  18.0  green\n",
      "9  5.0  10.0   blue\n"
     ]
    }
   ],
   "source": [
    "mode_C = df['C'].mode()[0]\n",
    "df['C'].fillna(mode_C, inplace=True)\n",
    "print(df)"
   ]
  },
  {
   "cell_type": "code",
   "execution_count": null,
   "id": "ae3bc220",
   "metadata": {},
   "outputs": [],
   "source": []
  }
 ],
 "metadata": {
  "kernelspec": {
   "display_name": "Python [conda env:ML]",
   "language": "python",
   "name": "conda-env-ML-py"
  },
  "language_info": {
   "codemirror_mode": {
    "name": "ipython",
    "version": 3
   },
   "file_extension": ".py",
   "mimetype": "text/x-python",
   "name": "python",
   "nbconvert_exporter": "python",
   "pygments_lexer": "ipython3",
   "version": "3.9.15"
  }
 },
 "nbformat": 4,
 "nbformat_minor": 5
}
